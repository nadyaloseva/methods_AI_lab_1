{
 "cells": [
  {
   "cell_type": "markdown",
   "id": "f494cddf",
   "metadata": {},
   "source": [
    "# Лабораторная работа №1 \n",
    "# по курсу «Методы искусственного интеллекта» \n",
    "## Поиск. Вариант 5\n",
    "\n",
    "## Решение \n",
    " 1. Описать заданную игру (головоломку) для ее решения с помощью методов поиска (реализовать наследника класса Problem). Головоломки по вариантам:\n",
    "    \n",
    "    **1-20 sliding puzzle (поле 3х7, по 10 фишек двух цветов, целевая конфигурация - шахматный порядок по цветам)**\n",
    "\n",
    "## Описание. \n",
    " **Состояния:** Размещение фишек с номерами 1-20 на поле 3х7\n",
    " \n",
    " **Начальное состояние**:\n",
    " \n",
    " **Цель:** Размещение фишек в шахматном порядке по цветам\n",
    " \n",
    " **Действия:** Перемещение одной фишки на пустую клетку\n",
    " \n",
    " **Модель перехода:** Отображениесостоянияи действия в новое состояние\n",
    " \n",
    " **Стоимость действия:** Всегда 1"
   ]
  },
  {
   "cell_type": "markdown",
   "id": "2252884f",
   "metadata": {},
   "source": [
    "### 1. Описать заданную игру (головоломку) для ее решения с помощью методов поиска (реализовать наследника класса Problem)."
   ]
  },
  {
   "cell_type": "code",
   "execution_count": null,
   "id": "309e882c",
   "metadata": {},
   "outputs": [],
   "source": [
    "!pip install utils"
   ]
  },
  {
   "cell_type": "code",
   "execution_count": 1,
   "id": "a0fface5",
   "metadata": {},
   "outputs": [],
   "source": [
    "from search import Problem, astar_search\n",
    "#from search import depth_first_tree_search"
   ]
  },
  {
   "cell_type": "code",
   "execution_count": 2,
   "id": "eb194d0d",
   "metadata": {},
   "outputs": [],
   "source": [
    "#создаем класс Problem\n",
    "class SlidingPuzzle(Problem):\n",
    "    \"\"\" The problem of sliding tiles numbered from 1 to 20 on a 3x7 board,\n",
    "    where one of the squares is a blank, trying to reach a goal configuration.\n",
    "    A board state is represented as a tuple of length 21, where the element at index i \n",
    "    represents the tile number at index i, or 0 if for the empty square, e.g. the goal:\n",
    "        1  2  3  4  5  6  7\n",
    "        8  9 10 11 12 13 14\n",
    "       15 16 17 18 19 20 21\n",
    "    \"\"\"\n",
    "\n",
    "    def __init__(self, initial, goal=(0, 1, 2, 3, 4, 5, 6, 7, 8, 9, 10, 11, 12, 13, 14, 15, 16, 17, 18, 19, 20)):\n",
    "        self.initial, self.goal = initial, goal\n",
    "\n",
    "    def actions(self, state):\n",
    "        \"\"\"The indexes of the squares that the blank can move to.\"\"\"\n",
    "        moves = {\n",
    "            0: [1, 7],\n",
    "            1: [0, 2, 8],\n",
    "            2: [1, 3, 9],\n",
    "            3: [2, 4, 10],\n",
    "            4: [3, 5, 11],\n",
    "            5: [4, 6, 12],\n",
    "            6: [5, 13],\n",
    "            7: [0, 8, 14],\n",
    "            8: [1, 7, 9, 15],\n",
    "            9: [2, 8, 10, 16],\n",
    "            10: [3, 9, 11, 17],\n",
    "            11: [4, 10, 12, 18],\n",
    "            12: [5, 11, 13, 19],\n",
    "            13: [6, 12, 20],\n",
    "            14: [7, 15],\n",
    "            15: [8, 14, 16],\n",
    "            16: [9, 15, 17],\n",
    "            17: [10, 16, 18],\n",
    "            18: [11, 17, 19],\n",
    "            19: [12, 18, 20],\n",
    "            20: [13, 19]\n",
    "        }\n",
    "\n",
    "        blank = state.index(0)\n",
    "        return moves[blank]\n",
    "\n",
    "    def result(self, state, action):\n",
    "        \"\"\"Swap the blank with the square numbered action.\"\"\"\n",
    "        s = list(state)\n",
    "        blank = state.index(0)\n",
    "        s[action], s[blank] = s[blank], s[action]\n",
    "        return tuple(s)"
   ]
  },
  {
   "cell_type": "code",
   "execution_count": 3,
   "id": "82be4488",
   "metadata": {},
   "outputs": [],
   "source": [
    "# Создаем экземпляр головоломки с начальным состоянием\n",
    "initial_state = (0,1, 2, 3, 4, 5, 6, 7, 8, 9, 10, 11, 12, 13, 14, 15, 16, 17, 18, 19, 20)\n",
    "p1 = SlidingPuzzle(initial_state)"
   ]
  },
  {
   "cell_type": "code",
   "execution_count": 4,
   "id": "1db3c052",
   "metadata": {},
   "outputs": [
    {
     "name": "stdout",
     "output_type": "stream",
     "text": [
      "<__main__.SlidingPuzzle object at 0x000002A2384478E0>\n"
     ]
    }
   ],
   "source": [
    "# Вывод начального состояния\n",
    "print(p1)"
   ]
  },
  {
   "cell_type": "markdown",
   "id": "b46b1e84",
   "metadata": {},
   "source": [
    "### Визуализация"
   ]
  },
  {
   "cell_type": "code",
   "execution_count": 5,
   "id": "98636bdc",
   "metadata": {},
   "outputs": [],
   "source": [
    "def board8(board, fmt=(3 * '{} {} {} {} {} {} {} \\n')):\n",
    "    \"A string representing an 20-puzzle board\"\n",
    "    return fmt.format(*('_' if x == 0 else x for x in board))"
   ]
  },
  {
   "cell_type": "code",
   "execution_count": 6,
   "id": "ead0de85",
   "metadata": {
    "scrolled": true
   },
   "outputs": [
    {
     "name": "stdout",
     "output_type": "stream",
     "text": [
      "_ 1 2 3 4 5 6 \n",
      "7 8 9 10 11 12 13 \n",
      "14 15 16 17 18 19 20 \n",
      "\n"
     ]
    }
   ],
   "source": [
    "print(board8(p1.initial))"
   ]
  },
  {
   "cell_type": "markdown",
   "id": "cce3f1bf",
   "metadata": {},
   "source": [
    "### 2. Оценить сложность решения неинформированными методами (поиск в глубину, в ширину)"
   ]
  },
  {
   "cell_type": "code",
   "execution_count": 7,
   "id": "a2eeef25",
   "metadata": {},
   "outputs": [],
   "source": [
    "e1 = SlidingPuzzle((11, 3, 2, 6, 4, 5, 1, 7, 8, 9, 18, 0, 20, 13, 14, 15, 10, 17, 16, 19, 12))\n",
    "e1 = SlidingPuzzle((1, 2, 3, 6, 4, 5, 7, 8, 9, 10, 12, 11, 13, 14, 15, 16, 17, 18, 0, 19, 20))\n",
    "#e2 = SlidingPuzzle((0, 3, 11, 6, 4, 5, 2, 7, 8, 9, 18, 1, 12, 13, 14, 15, 10, 17, 16, 19, 20))\n",
    "#e3 = SlidingPuzzle((13, 3, 11, 6, 4, 5, 2, 7, 1, 9, 18, 8, 12, 0, 19, 15, 10, 17, 16, 14, 20))\n",
    "#e4 = SlidingPuzzle((16, 3, 1, 6, 4, 5, 2, 7, 18, 9, 11, 8, 12, 13, 19, 15, 10, 17, 0, 20, 14))\n",
    "#e5 = SlidingPuzzle((1, 3, 2, 5, 7, 9, 12, 13, 10, 8, 6, 4, 0,  14, 16, 15, 17, 18, 19, 20, 11))"
   ]
  },
  {
   "cell_type": "markdown",
   "id": "00450d23",
   "metadata": {},
   "source": [
    "### Неинформированный поиск"
   ]
  },
  {
   "cell_type": "code",
   "execution_count": 10,
   "id": "bf635bfd",
   "metadata": {},
   "outputs": [],
   "source": [
    "from search import depth_limited_search"
   ]
  },
  {
   "cell_type": "code",
   "execution_count": null,
   "id": "ce6bea01",
   "metadata": {},
   "outputs": [],
   "source": [
    "# depth_first_tree_search не получилось использовать из-за нехватки памяти \n",
    "max_dept = 20\n",
    "result = depth_limited_search(e1, max_dept)"
   ]
  },
  {
   "cell_type": "code",
   "execution_count": 16,
   "id": "1632a6d9",
   "metadata": {},
   "outputs": [
    {
     "data": {
      "text/plain": [
       "'cutoff'"
      ]
     },
     "execution_count": 16,
     "metadata": {},
     "output_type": "execute_result"
    }
   ],
   "source": [
    "result"
   ]
  },
  {
   "cell_type": "code",
   "execution_count": 13,
   "id": "ce0b57a4",
   "metadata": {},
   "outputs": [
    {
     "ename": "AttributeError",
     "evalue": "'str' object has no attribute 'solution'",
     "output_type": "error",
     "traceback": [
      "\u001b[1;31m---------------------------------------------------------------------------\u001b[0m",
      "\u001b[1;31mAttributeError\u001b[0m                            Traceback (most recent call last)",
      "\u001b[1;32m~\\AppData\\Local\\Temp\\ipykernel_6540\\1017070311.py\u001b[0m in \u001b[0;36m<module>\u001b[1;34m\u001b[0m\n\u001b[0;32m      2\u001b[0m     \u001b[0mprint\u001b[0m\u001b[1;33m(\u001b[0m\u001b[1;34m\"Путь к цели не найден.\"\u001b[0m\u001b[1;33m)\u001b[0m\u001b[1;33m\u001b[0m\u001b[1;33m\u001b[0m\u001b[0m\n\u001b[0;32m      3\u001b[0m \u001b[1;32melse\u001b[0m\u001b[1;33m:\u001b[0m\u001b[1;33m\u001b[0m\u001b[1;33m\u001b[0m\u001b[0m\n\u001b[1;32m----> 4\u001b[1;33m     \u001b[0mprint\u001b[0m\u001b[1;33m(\u001b[0m\u001b[1;34m\"Найден путь к цели:\"\u001b[0m\u001b[1;33m,\u001b[0m \u001b[0mresult\u001b[0m\u001b[1;33m.\u001b[0m\u001b[0msolution\u001b[0m\u001b[1;33m(\u001b[0m\u001b[1;33m)\u001b[0m\u001b[1;33m)\u001b[0m\u001b[1;33m\u001b[0m\u001b[1;33m\u001b[0m\u001b[0m\n\u001b[0m",
      "\u001b[1;31mAttributeError\u001b[0m: 'str' object has no attribute 'solution'"
     ]
    }
   ],
   "source": [
    "if result is None:\n",
    "    print(\"Путь к цели не найден.\")\n",
    "else:\n",
    "    print(\"Найден путь к цели:\", result.solution())\n"
   ]
  },
  {
   "cell_type": "code",
   "execution_count": null,
   "id": "d3bbc027",
   "metadata": {},
   "outputs": [],
   "source": [
    "# Выводим информацию о сложности\n",
    "print(\"Временная сложность (количество шагов):\", result.path_cost)\n",
    "print(\"Пространственная сложность (максимальная глубина стека):\", len(result.state_stack))"
   ]
  }
 ],
 "metadata": {
  "kernelspec": {
   "display_name": "Python 3 (ipykernel)",
   "language": "python",
   "name": "python3"
  },
  "language_info": {
   "codemirror_mode": {
    "name": "ipython",
    "version": 3
   },
   "file_extension": ".py",
   "mimetype": "text/x-python",
   "name": "python",
   "nbconvert_exporter": "python",
   "pygments_lexer": "ipython3",
   "version": "3.9.13"
  }
 },
 "nbformat": 4,
 "nbformat_minor": 5
}
