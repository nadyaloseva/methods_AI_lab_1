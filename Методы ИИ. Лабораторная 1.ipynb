{
 "cells": [
  {
   "cell_type": "markdown",
   "id": "f494cddf",
   "metadata": {},
   "source": [
    "# Лабораторная работа №1 \n",
    "# по курсу «Методы искусственного интеллекта» \n",
    "## Поиск. Вариант 5\n",
    "\n",
    "## Решение \n",
    " 1. Описать заданную игру (головоломку) для ее решения с помощью методов поиска (реализовать наследника класса Problem). Головоломки по вариантам:\n",
    "    \n",
    "    **1-20 sliding puzzle (поле 3х7, по 10 фишек двух цветов, целевая конфигурация - шахматный порядок по цветам)**\n",
    "\n",
    "## Описание. \n",
    " **Состояния:** Размещение фишек с номерами 1-20 на поле 3х7\n",
    " \n",
    " **Начальное состояние**:\n",
    " \n",
    " **Цель:** Размещение фишек в шахматном порядке по цветам\n",
    " \n",
    " **Действия:** Перемещение одной фишки на пустую клетку\n",
    " \n",
    " **Модель перехода:** Отображениесостоянияи действия в новое состояние\n",
    " \n",
    " **Стоимость действия:** Всегда 1"
   ]
  },
  {
   "cell_type": "markdown",
   "id": "1c6d9d60",
   "metadata": {},
   "source": [
    "## 1. Поиск решений. "
   ]
  },
  {
   "cell_type": "markdown",
   "id": "2252884f",
   "metadata": {},
   "source": [
    "### 1.1 Описать заданную игру (головоломку) для ее решения с помощью методов поиска (реализовать наследника класса Problem)."
   ]
  },
  {
   "cell_type": "code",
   "execution_count": 70,
   "id": "97a67642",
   "metadata": {},
   "outputs": [],
   "source": [
    "import search\n",
    "import random"
   ]
  },
  {
   "cell_type": "code",
   "execution_count": 71,
   "id": "eb194d0d",
   "metadata": {},
   "outputs": [],
   "source": [
    "#создаем класс Problem\n",
    "class SlidingPuzzle(search.Problem):\n",
    "    \"\"\" The problem of sliding tiles numbered from 1 to 20 on a 3x7 board,\n",
    "    where one of the squares is a blank, trying to reach a goal configuration.\n",
    "    A board state is represented as a tuple of length 21, where the element at index i \n",
    "    represents the tile number at index i, or 0 if for the empty square, e.g. the goal:\n",
    "    1 2 1 \n",
    "    2 1 2\n",
    "    1 2 1\n",
    "    2 1 2\n",
    "    1 2 1\n",
    "    2 1 2 \n",
    "    1 2 0 \n",
    "    \"\"\"\n",
    "\n",
    "    def __init__(self, initial, goal=(1, 2, 1, 2, 1, 2, 1, 2, 1, 2, 1, 2, 1, 2, 1, 2, 1, 2, 1, 2, 0)):\n",
    "        self.initial, self.goal = initial, goal\n",
    "\n",
    "    def actions(self, state):\n",
    "        \"\"\"The indexes of the squares that the blank can move to.\"\"\"\n",
    "        moves = ((1, 3), (0, 2, 4),(1, 5),\n",
    "            (0, 4, 6),(1, 3, 5, 7), (2, 4, 8),\n",
    "            (3,7,9),(4,6,8,10),(5,7,11),\n",
    "            (6,10,12),(7,9,11,13),(8,10,14),\n",
    "            (9,13,15),(10,12,14,16),(11,13,17),\n",
    "            (12,16,18),(13,15,17,19),(14,16,20),\n",
    "            (15,19),(16,18,20),(17,19,20))\n",
    "\n",
    "\n",
    "        blank = state.index(0)\n",
    "        return moves[blank]\n",
    "\n",
    "\n",
    "    def result(self, state, action):\n",
    "        \"\"\"Swap the blank with the square numbered action.\"\"\"\n",
    "        s = list(state)\n",
    "        blank = state.index(0)\n",
    "        s[action], s[blank] = s[blank], s[action]\n",
    "        return tuple(s)"
   ]
  },
  {
   "cell_type": "code",
   "execution_count": 72,
   "id": "82be4488",
   "metadata": {},
   "outputs": [],
   "source": [
    "# Создаем экземпляр головоломки с начальным состоянием\n",
    "initial_state = (1, 2, 1, 2, 1, 2, 1, 2, 1, 2, 1, 2, 1, 2, 1, 2, 1, 2, 1, 2, 0)\n",
    "p1 = SlidingPuzzle(initial_state)"
   ]
  },
  {
   "cell_type": "code",
   "execution_count": 73,
   "id": "1db3c052",
   "metadata": {},
   "outputs": [
    {
     "name": "stdout",
     "output_type": "stream",
     "text": [
      "SlidingPuzzle((1, 2, 1, 2, 1, 2, 1, 2, 1, 2, 1, 2, 1, 2, 1, 2, 1, 2, 1, 2, 0), (1, 2, 1, 2, 1, 2, 1, 2, 1, 2, 1, 2, 1, 2, 1, 2, 1, 2, 1, 2, 0))\n"
     ]
    }
   ],
   "source": [
    "# Вывод начального состояния\n",
    "print(p1)"
   ]
  },
  {
   "cell_type": "markdown",
   "id": "b46b1e84",
   "metadata": {},
   "source": [
    "### Визуализация"
   ]
  },
  {
   "cell_type": "code",
   "execution_count": 74,
   "id": "98636bdc",
   "metadata": {},
   "outputs": [],
   "source": [
    "def board8(board, fmt=(7 * '{} {} {}\\n')):\n",
    "    \"A string representing an 20-puzzle board\"\n",
    "    return fmt.format(*('_' if x == 0 else x for x in board))"
   ]
  },
  {
   "cell_type": "code",
   "execution_count": 75,
   "id": "ead0de85",
   "metadata": {
    "scrolled": true
   },
   "outputs": [
    {
     "name": "stdout",
     "output_type": "stream",
     "text": [
      "1 2 1\n",
      "2 1 2\n",
      "1 2 1\n",
      "2 1 2\n",
      "1 2 1\n",
      "2 1 2\n",
      "1 2 _\n",
      "\n"
     ]
    }
   ],
   "source": [
    "print(board8(p1.initial))"
   ]
  },
  {
   "cell_type": "markdown",
   "id": "cce3f1bf",
   "metadata": {},
   "source": [
    "### 1.2 Оценить сложность решения неинформированными методами (поиск в глубину, в ширину)"
   ]
  },
  {
   "cell_type": "code",
   "execution_count": 76,
   "id": "a2eeef25",
   "metadata": {},
   "outputs": [],
   "source": [
    "e1 = SlidingPuzzle((1, 2, 2, 1, 1, 2, 1, 2, 1, 2, 1, 2, 1, 2, 1, 2, 1, 2, 1, 2, 0))\n",
    "e2 = SlidingPuzzle((1, 2, 1, 1, 1, 2, 2, 2, 1, 1, 2, 2, 1, 2, 1, 2, 1, 2, 1, 2, 0))\n",
    "e3 = SlidingPuzzle((0, 2, 1, 2, 1, 2, 1, 2, 1, 2, 1, 1, 2, 2, 1, 2, 1, 2, 1, 2, 1))\n",
    "e4 = SlidingPuzzle((1, 2, 1, 2, 1, 1, 1, 2, 2, 2, 2, 1, 1, 2, 1, 2, 1, 2, 1, 2, 0))\n",
    "e5 = SlidingPuzzle((1, 1, 2, 2, 1, 2, 0, 2, 1, 2, 1, 2, 1, 2, 1, 2, 1, 2, 1, 2, 1))"
   ]
  },
  {
   "cell_type": "markdown",
   "id": "00450d23",
   "metadata": {},
   "source": [
    "### Неинформированный поиск\n",
    "  Поиск в глубину"
   ]
  },
  {
   "cell_type": "code",
   "execution_count": 77,
   "id": "187e8638",
   "metadata": {},
   "outputs": [
    {
     "name": "stdout",
     "output_type": "stream",
     "text": [
      "breadth_first_search:\n",
      "  252,042 nodes |  252,043 goal |   18 cost |  80,628 actions | SlidingPuzzle((1, 2, 2, 1, 1, 2, 1, 2, 1\n",
      "  100,814 nodes |  100,815 goal |   16 cost |  32,157 actions | SlidingPuzzle((1, 2, 1, 1, 1, 2, 2, 2, 1\n",
      "7,515,037 nodes |7,515,038 goal |   30 cost |2,420,794 actions | SlidingPuzzle((0, 2, 1, 2, 1, 2, 1, 2, 1\n",
      "   33,922 nodes |   33,923 goal |   14 cost |  10,745 actions | SlidingPuzzle((1, 2, 1, 2, 1, 1, 1, 2, 2\n",
      "5,352,595 nodes |5,352,596 goal |   26 cost |1,720,289 actions | SlidingPuzzle((1, 1, 2, 2, 1, 2, 0, 2, 1\n",
      "13,254,410 nodes |13,254,415 goal |  104 cost |4,264,613 actions | TOTAL\n",
      "\n"
     ]
    }
   ],
   "source": [
    "search.report([search.breadth_first_search],[e1,e2,e3,e4,e5])\n"
   ]
  },
  {
   "cell_type": "markdown",
   "id": "763a3597",
   "metadata": {},
   "source": [
    "### 1.3 Предложить две эвристики для реализации информированного поиска.\n",
    "\n",
    "Ответ: С подсчетом неправильно расположенных фишек, Манхэттенская эвристика"
   ]
  },
  {
   "cell_type": "markdown",
   "id": "3fd0d962",
   "metadata": {},
   "source": [
    "### 1.4 Провести теоретический анализ. Являются ли предложенные эвристики допустимыми, монотонными. Выдвинуть обоснованные предположения относительно того, какая из них будет лучше.\n",
    "\n",
    "**Эвристика с подсчетом неправильно расположенных фишек**\n",
    "Допустимость: Данная евристика является допустимой, так как она подсчитывает неправильно расположенных фишек. Данное количество всегда будет меньше, чем фактическое количество перемещений. Например, в начальном состоянии, где 2 фишки поменяли местами:\n",
    "\n",
    "1 2 1\n",
    "\n",
    "1 2 _\n",
    "\n",
    "Количество неправильно расположенных фишек - 2, а количество перемещений - 1 \n",
    "\n",
    "Монотонность: Чтобы доказать моннотонность, она должна удовлетворять условие:\n",
    "\n",
    "h(v) <= cost(v,u)+h(u)\n",
    "\n",
    ", где h(v)- оценка расстояния до цели из вершины v, cost(v,u) - стоимость перехода из вершины v в вершину u, h(u) - оценка растояни до цели из вершины u \n",
    "u - это вершина,в которую можно переместиться из текущей вершины v\n",
    "\n",
    "То есть для нашей задачи данное условие будет удовлетворять условию, для того же примера cost(v,u) - 1, h(u) - 1, h(v) - 2\n",
    "\n",
    "2<=2\n",
    "\n",
    "**Эвристика с Манхэттенского расстояния**\n",
    "Допустимость: Так как Манхэттенское расстояние учитывает горизонтальное и вертикальное перемежещие между текущей позицией и целевой. Это расстояние будет всегда меньше, чем минимальное количество до целевого состояния. Но данный метод работал для задач, в которых учитывается индексация для выставления целевых позиций фишек. Поэтому для данной задачи эвристика не будет допустимой. \n",
    "\n",
    "Моннотоность: Для задач 1-20 sliding puzzle не может являться моннотонной, так как оценка расстояния от вершины v будет больше, чем сумма оценки расстояний от соседних вершин u и стоимость перехода. Это происходит потому что считается расстояние для индекса\n",
    "\n",
    "Итак, из двух выбранных эвристик одна является моннотоной и допустимой, а другая не является допустимой и моннотонной. Так как Манхэттенская эвристика учитывает индексацию. Поэтому очевидно, что эвристика с подсчетом неправильно расположенных фишек будет работать эффективнее "
   ]
  },
  {
   "cell_type": "markdown",
   "id": "c95043f2",
   "metadata": {},
   "source": [
    "### 1.5 Информированный поиск"
   ]
  },
  {
   "cell_type": "code",
   "execution_count": 110,
   "id": "4f22eae4",
   "metadata": {},
   "outputs": [],
   "source": [
    "def hamming_distance(A, B):\n",
    "    \"Number of positions where vectors A and B are different.\"\n",
    "    return sum(a != b for a, b in zip(A, B))\n",
    "\n",
    "def h1(problem, node):\n",
    "    \"\"\"The misplaced tiles heuristic.\"\"\"\n",
    "    return hamming_distance(node.state, problem.goal)\n",
    "\n",
    "#функция подсчета Манхэттенского расстояния для каждой фишки и ее целевой ячейки, учитывая общее расстояние \n",
    "def h2(problem, node):\n",
    "    \"\"\"The Manhattan heuristic.\"\"\"\n",
    "    X = (0, 1, 2, 0, 1, 2, 0, 1, 2)\n",
    "    Y = (0, 0, 0, 1, 1, 1, 2, 2, 2)\n",
    "    return sum(abs(X[s] - X[g]) + abs(Y[s] - Y[g])\n",
    "               for (s, g) in zip(node.state, problem.goal) if s != 0)\n",
    "                "
   ]
  },
  {
   "cell_type": "code",
   "execution_count": null,
   "id": "02ce0b4f",
   "metadata": {},
   "outputs": [],
   "source": [
    "def count_inversions(state, color):\n",
    "    color_positions = [i for i, tile in enumerate(state) if tile == color]\n",
    "    inversions = 0\n",
    "\n",
    "    for i in range(len(color_positions)):\n",
    "        for j in range(i + 1, len(color_positions)):\n",
    "            if color_positions[i] > color_positions[j]:\n",
    "                inversions += 1\n",
    "\n",
    "    return inversions\n",
    "\n",
    "# Пример использования:\n",
    "initial_state = [1, 2, 3, 4, 5, 6, 7, 8, 9, 10, 11, 12, 13, 14, 15, 16, 17, 18, 19, 20, \"_\"]\n",
    "black_inversions = count_inversions(initial_state, \"black\")\n",
    "white_inversions = count_inversions(initial_state, \"white\")\n",
    "\n",
    "print(\"Черные инверсии:\", black_inversions)\n",
    "print(\"Белые инверсии:\", white_inversions)"
   ]
  },
  {
   "cell_type": "code",
   "execution_count": 111,
   "id": "32f5ac58",
   "metadata": {},
   "outputs": [],
   "source": [
    "def astar_misplaced_tiles(problem): return search.astar_search(problem, h=lambda n: h1(problem, n))\n",
    "def astar_manhattan_tiles(problem): return search.astar_search(problem, h=lambda n: h2(problem, n))"
   ]
  },
  {
   "cell_type": "code",
   "execution_count": 112,
   "id": "7502e880",
   "metadata": {},
   "outputs": [
    {
     "name": "stdout",
     "output_type": "stream",
     "text": [
      "astar_misplaced_tiles:\n",
      "    9,648 nodes |    2,999 goal |   18 cost |   3,016 actions | SlidingPuzzle((1, 2, 2, 1, 1, 2, 1, 2, 1\n",
      "    4,772 nodes |    1,476 goal |   16 cost |   1,491 actions | SlidingPuzzle((1, 2, 1, 1, 1, 2, 2, 2, 1\n",
      "1,190,322 nodes |  379,012 goal |   30 cost | 379,041 actions | SlidingPuzzle((0, 2, 1, 2, 1, 2, 1, 2, 1\n",
      "    1,666 nodes |      512 goal |   14 cost |     525 actions | SlidingPuzzle((1, 2, 1, 2, 1, 1, 1, 2, 2\n",
      "  413,253 nodes |  131,067 goal |   26 cost | 131,092 actions | SlidingPuzzle((1, 1, 2, 2, 1, 2, 0, 2, 1\n",
      "1,619,661 nodes |  515,066 goal |  104 cost | 515,165 actions | TOTAL\n",
      "\n"
     ]
    }
   ],
   "source": [
    "search.report([astar_misplaced_tiles], [e1, e2, e3, e4, e5])"
   ]
  },
  {
   "cell_type": "code",
   "execution_count": 113,
   "id": "081593c5",
   "metadata": {},
   "outputs": [
    {
     "name": "stdout",
     "output_type": "stream",
     "text": [
      "astar_manhattan_tiles:\n",
      "   10,709 nodes |    3,327 goal |   18 cost |   3,344 actions | SlidingPuzzle((1, 2, 2, 1, 1, 2, 1, 2, 1\n",
      "    5,285 nodes |    1,632 goal |   16 cost |   1,647 actions | SlidingPuzzle((1, 2, 1, 1, 1, 2, 2, 2, 1\n",
      "1,677,387 nodes |  535,451 goal |   30 cost | 535,480 actions | SlidingPuzzle((0, 2, 1, 2, 1, 2, 1, 2, 1\n",
      "    1,886 nodes |      579 goal |   14 cost |     592 actions | SlidingPuzzle((1, 2, 1, 2, 1, 1, 1, 2, 2\n",
      "  672,358 nodes |  213,844 goal |   26 cost | 213,869 actions | SlidingPuzzle((1, 1, 2, 2, 1, 2, 0, 2, 1\n",
      "2,367,625 nodes |  754,833 goal |  104 cost | 754,932 actions | TOTAL\n",
      "\n"
     ]
    }
   ],
   "source": [
    "search.report([astar_manhattan_tiles], [e1, e2, e3, e4, e5])"
   ]
  },
  {
   "cell_type": "markdown",
   "id": "9a9a8f28",
   "metadata": {},
   "source": [
    "### Вывод\n",
    "Как видно из тестирования у метода подсчета неправильно расположенных фишек меньшее количество узлов по сравнению с эвристикой Манхэттанского расстояния. На примерах, которые требуют незначительные изменения разница небольшая, а вот на более сложных примерах разница достаточно весомая. Например, на e3 эвристика Манхэттанского расстояния создала примерно на 500к  больше узлов. \n",
    "\n",
    "По стоимости все эвристики находят оптимальные пути. \n",
    "По времени работы алгоритмов эвристика Манхэттанского расстояния также проигрывает. 37.4s - эвристика подсчета неправильно расположенных фишек, 1m 5s - эвристика Манхэттанского расстояния с подсчетом расстояния до каждой фишки и ее целевой ячейки, с учетом общего расстояния\n",
    "\n",
    "Получается, что эвристика подсчета неправильных положений фишек имеет наименьшее количество узлов, поэтому можно считать ее более оптимальной. \n",
    "Также стоит упомянуть, что при поиске в ширину на таких начальные состояния превышало 100 тысяч узлов (кроме е4), что каласальное отличается от результатов эвристик и говорит о сильной не оптимальности этого способа. \n"
   ]
  },
  {
   "cell_type": "markdown",
   "id": "0c74b388",
   "metadata": {},
   "source": [
    "## 2. Локальный поиск.\n",
    "### Локальный лучевой поиск"
   ]
  },
  {
   "cell_type": "code",
   "execution_count": 81,
   "id": "0a4f6a5d",
   "metadata": {},
   "outputs": [],
   "source": [
    "#Создадим функцию для генерации начального состояния\n",
    "def generate_state(size):\n",
    "    return [random.randint(0, size - 1) for _ in range(size)]\n",
    "\n",
    "#Сделаем функцию подсчета конфликтов в состоянии\n",
    "def calculate(state):\n",
    "    conflicts = 0\n",
    "    size = len(state)\n",
    "\n",
    "    for i in range(size):\n",
    "        for j in range(i + 1, size):\n",
    "            if state[i] == state[j] or abs(state[i] - state[j]) == j - i:\n",
    "                conflicts += 1\n",
    "\n",
    "    return conflicts\n",
    "\n",
    "#Функция локального лучевого поиска \n",
    "def local_beam_search(size, beam_width, max_iterations):\n",
    "    best_state = generate_state(size)\n",
    "    best_conflicts = calculate_conflicts(best_state)\n",
    "\n",
    "    for i in range(max_iterations):\n",
    "        if best_conflicts == 0:\n",
    "            return best_state  \n",
    "\n",
    "        neighbor = generate_random_state(size)\n",
    "\n",
    "        neighbor_conflicts = calculate(neighbor)\n",
    "\n",
    "        if neighbor_conflicts < best_conflicts:\n",
    "            best_state = neighbor\n",
    "            best_conflicts = neighbor_conflicts\n",
    "\n",
    "    return None  \n"
   ]
  },
  {
   "cell_type": "code",
   "execution_count": 105,
   "id": "96df19b7",
   "metadata": {},
   "outputs": [
    {
     "name": "stdout",
     "output_type": "stream",
     "text": [
      "Найденно 0 оптимальных решений из 10 комбинаций\n"
     ]
    }
   ],
   "source": [
    "#подсчет удачных решений при изменении ширины лучей\n",
    "count = 0\n",
    "for i in [50,100,150,200,300,400,500,600,700, 800]:\n",
    "    solution = local_beam_search(8, i, 1000)\n",
    "    if solution:\n",
    "        count+=1\n",
    "        print('Ширина луча:',i)\n",
    "print(f'Найденно {count} оптимальных решений из 10 комбинаций')"
   ]
  },
  {
   "cell_type": "markdown",
   "id": "19d72538",
   "metadata": {},
   "source": [
    "Для сравнения оптимального решения я выбрала доску 8x8, так как достаточно средний размер доски для сравнения\n",
    "Как мы видимо даже на достаточной большой ширине луча не находится оптмальное решении. Так как лучевой поиск при бесконечно ширине луча индентичен поиску в ширину, то возможно стоит увеличивать ширину луча еще больше. Но я считаю, что можно сказать, что локальный лучевой поиск не оптимален. "
   ]
  },
  {
   "cell_type": "markdown",
   "id": "76c69cc0",
   "metadata": {},
   "source": [
    "### Генетический алгоритм"
   ]
  },
  {
   "cell_type": "code",
   "execution_count": 66,
   "id": "320841e9",
   "metadata": {},
   "outputs": [],
   "source": [
    "#Функция генетического алгоритма\n",
    "def genetic_algorithm(size, population_size, generations, mutation_rate):\n",
    "    population = [generate_tate(size) for _ in range(population_size)]\n",
    "\n",
    "    for i in range(generations):\n",
    "        fitness_scores = [calculate_conflicts(individual) for individual in population]\n",
    "\n",
    "        best_individual = population[fitness_scores.index(max(fitness_scores))]\n",
    "        best_fitness = max(fitness_scores)\n",
    "\n",
    "        if best_fitness == 1:\n",
    "            return best_individual\n",
    "\n",
    "\n",
    "    return None  \n"
   ]
  },
  {
   "cell_type": "code",
   "execution_count": 104,
   "id": "7558a8d3",
   "metadata": {},
   "outputs": [
    {
     "name": "stdout",
     "output_type": "stream",
     "text": [
      "Найденно 0 оптимальных решений из 10 комбинаций\n"
     ]
    }
   ],
   "source": [
    "#подсчет удачных решений при изменении размера популяций\n",
    "count = 0\n",
    "for i in [1,5,10,100,200,300,400,500,600,1000]:\n",
    "    solution = genetic_algorithm(8, i, 1000,0.1)\n",
    "    if solution:\n",
    "        count+=1\n",
    "print(f'Найденно {count} оптимальных решений из 10 комбинаций')"
   ]
  },
  {
   "cell_type": "markdown",
   "id": "6882183d",
   "metadata": {},
   "source": [
    "Так как увеличенный размер популяции обычно увеличивает разнообразие решений, то я предполагала, что это поможет в поиске оптимального пути. Но на примерах у нас было различные размеры популяций от минимальных 1 до 1000. К сожалению, это не помогло найти опимальные решение на шахматной доске размерность 8x8"
   ]
  }
 ],
 "metadata": {
  "kernelspec": {
   "display_name": "Python 3 (ipykernel)",
   "language": "python",
   "name": "python3"
  },
  "language_info": {
   "codemirror_mode": {
    "name": "ipython",
    "version": 3
   },
   "file_extension": ".py",
   "mimetype": "text/x-python",
   "name": "python",
   "nbconvert_exporter": "python",
   "pygments_lexer": "ipython3",
   "version": "3.10.5"
  }
 },
 "nbformat": 4,
 "nbformat_minor": 5
}
