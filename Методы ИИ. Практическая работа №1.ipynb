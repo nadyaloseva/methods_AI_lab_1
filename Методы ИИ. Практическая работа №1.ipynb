{
 "cells": [
  {
   "cell_type": "markdown",
   "id": "f494cddf",
   "metadata": {},
   "source": [
    "# Лабораторная работа №1 \n",
    "# по курсу «Методы искусственного интеллекта» \n",
    "## Поиск. Вариант 5\n",
    "\n",
    "## Решение \n",
    " 1. Описать заданную игру (головоломку) для ее решения с помощью методов поиска (реализовать наследника класса Problem). Головоломки по вариантам:\n",
    "    \n",
    "    **1-20 sliding puzzle (поле 3х7, по 10 фишек двух цветов, целевая конфигурация - шахматный порядок по цветам)**\n",
    "\n",
    "## Описание. \n",
    " **Состояния:** Размещение фишек с номерами 1-20 на поле 3х7\n",
    " \n",
    " **Начальное состояние**:\n",
    " \n",
    " **Цель:** Размещение фишек в шахматном порядке по цветам\n",
    " \n",
    " **Действия:** Перемещение одной фишки на пустую клетку\n",
    " \n",
    " **Модель перехода:** Отображениесостоянияи действия в новое состояние\n",
    " \n",
    " **Стоимость действия:** Всегда 1"
   ]
  },
  {
   "cell_type": "markdown",
   "id": "1c6d9d60",
   "metadata": {},
   "source": [
    "## 1. Поиск решений. "
   ]
  },
  {
   "cell_type": "markdown",
   "id": "2252884f",
   "metadata": {},
   "source": [
    "### 1.1 Описать заданную игру (головоломку) для ее решения с помощью методов поиска (реализовать наследника класса Problem)."
   ]
  },
  {
   "cell_type": "code",
   "execution_count": 121,
   "id": "97a67642",
   "metadata": {},
   "outputs": [],
   "source": [
    "import search\n",
    "import random\n",
    "import select"
   ]
  },
  {
   "cell_type": "code",
   "execution_count": 71,
   "id": "eb194d0d",
   "metadata": {},
   "outputs": [],
   "source": [
    "#создаем класс Problem\n",
    "class SlidingPuzzle(search.Problem):\n",
    "    \"\"\" The problem of sliding tiles numbered from 1 to 20 on a 3x7 board,\n",
    "    where one of the squares is a blank, trying to reach a goal configuration.\n",
    "    A board state is represented as a tuple of length 21, where the element at index i \n",
    "    represents the tile number at index i, or 0 if for the empty square, e.g. the goal:\n",
    "    1 2 1 \n",
    "    2 1 2\n",
    "    1 2 1\n",
    "    2 1 2\n",
    "    1 2 1\n",
    "    2 1 2 \n",
    "    1 2 0 \n",
    "    \"\"\"\n",
    "\n",
    "    def __init__(self, initial, goal=(1, 2, 1, 2, 1, 2, 1, 2, 1, 2, 1, 2, 1, 2, 1, 2, 1, 2, 1, 2, 0)):\n",
    "        self.initial, self.goal = initial, goal\n",
    "\n",
    "    def actions(self, state):\n",
    "        \"\"\"The indexes of the squares that the blank can move to.\"\"\"\n",
    "        moves = ((1, 3), (0, 2, 4),(1, 5),\n",
    "            (0, 4, 6),(1, 3, 5, 7), (2, 4, 8),\n",
    "            (3,7,9),(4,6,8,10),(5,7,11),\n",
    "            (6,10,12),(7,9,11,13),(8,10,14),\n",
    "            (9,13,15),(10,12,14,16),(11,13,17),\n",
    "            (12,16,18),(13,15,17,19),(14,16,20),\n",
    "            (15,19),(16,18,20),(17,19,20))\n",
    "\n",
    "\n",
    "        blank = state.index(0)\n",
    "        return moves[blank]\n",
    "\n",
    "\n",
    "    def result(self, state, action):\n",
    "        \"\"\"Swap the blank with the square numbered action.\"\"\"\n",
    "        s = list(state)\n",
    "        blank = state.index(0)\n",
    "        s[action], s[blank] = s[blank], s[action]\n",
    "        return tuple(s)"
   ]
  },
  {
   "cell_type": "code",
   "execution_count": 72,
   "id": "82be4488",
   "metadata": {},
   "outputs": [],
   "source": [
    "# Создаем экземпляр головоломки с начальным состоянием\n",
    "initial_state = (1, 2, 1, 2, 1, 2, 1, 2, 1, 2, 1, 2, 1, 2, 1, 2, 1, 2, 1, 2, 0)\n",
    "p1 = SlidingPuzzle(initial_state)"
   ]
  },
  {
   "cell_type": "code",
   "execution_count": 73,
   "id": "1db3c052",
   "metadata": {},
   "outputs": [
    {
     "name": "stdout",
     "output_type": "stream",
     "text": [
      "SlidingPuzzle((1, 2, 1, 2, 1, 2, 1, 2, 1, 2, 1, 2, 1, 2, 1, 2, 1, 2, 1, 2, 0), (1, 2, 1, 2, 1, 2, 1, 2, 1, 2, 1, 2, 1, 2, 1, 2, 1, 2, 1, 2, 0))\n"
     ]
    }
   ],
   "source": [
    "# Вывод начального состояния\n",
    "print(p1)"
   ]
  },
  {
   "cell_type": "markdown",
   "id": "b46b1e84",
   "metadata": {},
   "source": [
    "### Визуализация"
   ]
  },
  {
   "cell_type": "code",
   "execution_count": 74,
   "id": "98636bdc",
   "metadata": {},
   "outputs": [],
   "source": [
    "def board8(board, fmt=(7 * '{} {} {}\\n')):\n",
    "    \"A string representing an 20-puzzle board\"\n",
    "    return fmt.format(*('_' if x == 0 else x for x in board))"
   ]
  },
  {
   "cell_type": "code",
   "execution_count": 75,
   "id": "ead0de85",
   "metadata": {
    "scrolled": true
   },
   "outputs": [
    {
     "name": "stdout",
     "output_type": "stream",
     "text": [
      "1 2 1\n",
      "2 1 2\n",
      "1 2 1\n",
      "2 1 2\n",
      "1 2 1\n",
      "2 1 2\n",
      "1 2 _\n",
      "\n"
     ]
    }
   ],
   "source": [
    "print(board8(p1.initial))"
   ]
  },
  {
   "cell_type": "markdown",
   "id": "cce3f1bf",
   "metadata": {},
   "source": [
    "### 1.2 Оценить сложность решения неинформированными методами (поиск в глубину, в ширину)"
   ]
  },
  {
   "cell_type": "code",
   "execution_count": 208,
   "id": "a2eeef25",
   "metadata": {},
   "outputs": [],
   "source": [
    "e1 = SlidingPuzzle((1, 2, 2, 1, 1, 2, 1, 2, 1, 2, 1, 2, 1, 2, 1, 2, 1, 2, 1, 2, 0))\n",
    "e2 = SlidingPuzzle((1, 2, 1, 1, 1, 2, 2, 2, 1, 1, 2, 2, 1, 2, 1, 2, 1, 2, 1, 2, 0))\n",
    "e3 = SlidingPuzzle((0, 2, 1, 2, 1, 2, 1, 2, 1, 2, 1, 1, 2, 2, 1, 2, 1, 2, 1, 2, 1))\n",
    "e4 = SlidingPuzzle((1, 2, 1, 2, 1, 1, 1, 2, 2, 2, 2, 1, 1, 2, 1, 2, 1, 2, 1, 2, 0))\n",
    "e5 = SlidingPuzzle((1, 1, 2, 2, 1, 2, 0, 2, 1, 2, 1, 2, 1, 2, 1, 2, 1, 2, 1, 2, 1))"
   ]
  },
  {
   "cell_type": "markdown",
   "id": "00450d23",
   "metadata": {},
   "source": [
    "### Неинформированный поиск\n",
    "  Поиск в глубину"
   ]
  },
  {
   "cell_type": "code",
   "execution_count": 77,
   "id": "187e8638",
   "metadata": {},
   "outputs": [
    {
     "name": "stdout",
     "output_type": "stream",
     "text": [
      "breadth_first_search:\n",
      "  252,042 nodes |  252,043 goal |   18 cost |  80,628 actions | SlidingPuzzle((1, 2, 2, 1, 1, 2, 1, 2, 1\n",
      "  100,814 nodes |  100,815 goal |   16 cost |  32,157 actions | SlidingPuzzle((1, 2, 1, 1, 1, 2, 2, 2, 1\n",
      "7,515,037 nodes |7,515,038 goal |   30 cost |2,420,794 actions | SlidingPuzzle((0, 2, 1, 2, 1, 2, 1, 2, 1\n",
      "   33,922 nodes |   33,923 goal |   14 cost |  10,745 actions | SlidingPuzzle((1, 2, 1, 2, 1, 1, 1, 2, 2\n",
      "5,352,595 nodes |5,352,596 goal |   26 cost |1,720,289 actions | SlidingPuzzle((1, 1, 2, 2, 1, 2, 0, 2, 1\n",
      "13,254,410 nodes |13,254,415 goal |  104 cost |4,264,613 actions | TOTAL\n",
      "\n"
     ]
    }
   ],
   "source": [
    "search.report([search.breadth_first_search],[e1,e2,e3,e4,e5])\n"
   ]
  },
  {
   "cell_type": "markdown",
   "id": "763a3597",
   "metadata": {},
   "source": [
    "### 1.3 Предложить две эвристики для реализации информированного поиска.\n",
    "\n",
    "Ответ: С подсчетом неправильно расположенных фишек, Манхэттенская эвристика"
   ]
  },
  {
   "cell_type": "markdown",
   "id": "3fd0d962",
   "metadata": {},
   "source": [
    "### 1.4 Провести теоретический анализ. Являются ли предложенные эвристики допустимыми, монотонными. Выдвинуть обоснованные предположения относительно того, какая из них будет лучше.\n",
    "\n",
    "**Эвристика с подсчетом неправильно расположенных фишек**\n",
    "\n",
    "Допустимость: Данная евристика является допустимой, так как она подсчитывает неправильно расположенных фишек. Данное количество всегда будет меньше, чем фактическое количество перемещений. Например, в начальном состоянии, где 2 фишки поменяли местами:\n",
    "\n",
    "1 2 1\n",
    "\n",
    "1 2 _\n",
    "\n",
    "Количество неправильно расположенных фишек - 2, а количество перемещений - 1 \n",
    "\n",
    "Монотонность: Чтобы доказать моннотонность, она должна удовлетворять условие:\n",
    "\n",
    "h(v) <= cost(v,u)+h(u)\n",
    "\n",
    ", где h(v)- оценка расстояния до цели из вершины v, cost(v,u) - стоимость перехода из вершины v в вершину u, h(u) - оценка растояни до цели из вершины u \n",
    "u - это вершина,в которую можно переместиться из текущей вершины v\n",
    "\n",
    "То есть для нашей задачи данное условие будет удовлетворять условию, для того же примера cost(v,u) - 1, h(u) - 1, h(v) - 1\n",
    "\n",
    "1<=2\n",
    "\n",
    "**Эвристика с Манхэттенского расстояния**\n",
    "\n",
    "Допустимость: Так как Манхэттенское расстояние учитывает горизонтальное и вертикальное перемежещие между текущей позицией и целевой. Это расстояние будет всегда больше, чем минимальное количество до целевого состояния. Но данный метод работал для задач, в которых учитывается индексация для выставления целевых позиций фишек. Поэтому для данной задачи эвристика не будет допустимой. \n",
    "\n",
    "\n",
    "Моннотоность: Для задач 1-20 sliding puzzle не может являться моннотонной, так как оценка расстояния от вершины v будет больше, чем сумма оценки расстояний от соседних вершин u и стоимость перехода. Это происходит потому что считается расстояние для индекса\n",
    "\n",
    "\n",
    "Итак, из двух выбранных эвристик одна является моннотоной и допустимой, а другая не является допустимой и моннотонной. Так как Манхэттенская эвристика учитывает индексацию. Поэтому очевидно, что эвристика с подсчетом неправильно расположенных фишек будет работать эффективнее "
   ]
  },
  {
   "cell_type": "markdown",
   "id": "c95043f2",
   "metadata": {},
   "source": [
    "### 1.5 Информированный поиск"
   ]
  },
  {
   "cell_type": "code",
   "execution_count": 110,
   "id": "4f22eae4",
   "metadata": {},
   "outputs": [],
   "source": [
    "def hamming_distance(A, B):\n",
    "    \"Number of positions where vectors A and B are different.\"\n",
    "    return sum(a != b for a, b in zip(A, B))\n",
    "\n",
    "def h1(problem, node):\n",
    "    \"\"\"The misplaced tiles heuristic.\"\"\"\n",
    "    return hamming_distance(node.state, problem.goal)\n",
    "\n",
    "#функция подсчета Манхэттенского расстояния для каждой фишки и ее целевой ячейки, учитывая общее расстояние \n",
    "def h2(problem, node):\n",
    "    \"\"\"The Manhattan heuristic.\"\"\"\n",
    "    X = (0, 1, 2, 0, 1, 2, 0, 1, 2)\n",
    "    Y = (0, 0, 0, 1, 1, 1, 2, 2, 2)\n",
    "    return sum(abs(X[s] - X[g]) + abs(Y[s] - Y[g])\n",
    "               for (s, g) in zip(node.state, problem.goal) if s != 0)\n",
    "                "
   ]
  },
  {
   "cell_type": "code",
   "execution_count": 111,
   "id": "32f5ac58",
   "metadata": {},
   "outputs": [],
   "source": [
    "def astar_misplaced_tiles(problem): return search.astar_search(problem, h=lambda n: h1(problem, n))\n",
    "def astar_manhattan_tiles(problem): return search.astar_search(problem, h=lambda n: h2(problem, n))"
   ]
  },
  {
   "cell_type": "code",
   "execution_count": 112,
   "id": "7502e880",
   "metadata": {},
   "outputs": [
    {
     "name": "stdout",
     "output_type": "stream",
     "text": [
      "astar_misplaced_tiles:\n",
      "    9,648 nodes |    2,999 goal |   18 cost |   3,016 actions | SlidingPuzzle((1, 2, 2, 1, 1, 2, 1, 2, 1\n",
      "    4,772 nodes |    1,476 goal |   16 cost |   1,491 actions | SlidingPuzzle((1, 2, 1, 1, 1, 2, 2, 2, 1\n",
      "1,190,322 nodes |  379,012 goal |   30 cost | 379,041 actions | SlidingPuzzle((0, 2, 1, 2, 1, 2, 1, 2, 1\n",
      "    1,666 nodes |      512 goal |   14 cost |     525 actions | SlidingPuzzle((1, 2, 1, 2, 1, 1, 1, 2, 2\n",
      "  413,253 nodes |  131,067 goal |   26 cost | 131,092 actions | SlidingPuzzle((1, 1, 2, 2, 1, 2, 0, 2, 1\n",
      "1,619,661 nodes |  515,066 goal |  104 cost | 515,165 actions | TOTAL\n",
      "\n"
     ]
    }
   ],
   "source": [
    "search.report([astar_misplaced_tiles], [e1, e2, e3, e4, e5])"
   ]
  },
  {
   "cell_type": "code",
   "execution_count": 113,
   "id": "081593c5",
   "metadata": {},
   "outputs": [
    {
     "name": "stdout",
     "output_type": "stream",
     "text": [
      "astar_manhattan_tiles:\n",
      "   10,709 nodes |    3,327 goal |   18 cost |   3,344 actions | SlidingPuzzle((1, 2, 2, 1, 1, 2, 1, 2, 1\n",
      "    5,285 nodes |    1,632 goal |   16 cost |   1,647 actions | SlidingPuzzle((1, 2, 1, 1, 1, 2, 2, 2, 1\n",
      "1,677,387 nodes |  535,451 goal |   30 cost | 535,480 actions | SlidingPuzzle((0, 2, 1, 2, 1, 2, 1, 2, 1\n",
      "    1,886 nodes |      579 goal |   14 cost |     592 actions | SlidingPuzzle((1, 2, 1, 2, 1, 1, 1, 2, 2\n",
      "  672,358 nodes |  213,844 goal |   26 cost | 213,869 actions | SlidingPuzzle((1, 1, 2, 2, 1, 2, 0, 2, 1\n",
      "2,367,625 nodes |  754,833 goal |  104 cost | 754,932 actions | TOTAL\n",
      "\n"
     ]
    }
   ],
   "source": [
    "search.report([astar_manhattan_tiles], [e1, e2, e3, e4, e5])"
   ]
  },
  {
   "cell_type": "markdown",
   "id": "55a325f8",
   "metadata": {},
   "source": [
    "Как мы видим в привычном виде эвристика Манхэттенского расстояния не оптимальна для задачи 1-20 Sliding puzzle, где нужно расставить фишки в в шахматном порядке. \n",
    "Для это преобразуем эвристику: будем считать не индексы положений в целевом положении, а  будем проверять соседий и считать сумму расстояний до ближайшего соседа одного цвета к целевому состоянию\n",
    "\n",
    "Данная эвристика будет **допустимой**, потому что оценивает расстояние от текущего состояние для целевого, учитывая только ближайшие целевые позиции для каждого цвета. Также она не завышает фактическое расстояние до цели, то есть при целевом состоянии она будет возвращать 0. \n",
    "\n",
    "Она также будет **монотонной**, так как для любой соседней вершины оценка не будет больше, чем оценка текущей вершины. Если мы перемещаем фишки к целевой позиции или увеличиваем количество соседей в данном направлении, это увеличивает оценку, так как мы оцениваем близость фишек одного цвета к их целевым позициям, учитывая соседей в 4х направлениях. "
   ]
  },
  {
   "cell_type": "code",
   "execution_count": 218,
   "id": "72f2276a",
   "metadata": {},
   "outputs": [],
   "source": [
    "def h3(initial_state):\n",
    "\n",
    "    total_distance = 0\n",
    "\n",
    "    #Оценим близость элементов каждого цвета в целевом наборе \n",
    "    for i, element in enumerate(initial_state):\n",
    "\n",
    "        #Определяем текущие координаты на доске \n",
    "        current_row, current_col = i // 7, i % 7\n",
    "\n",
    "        neighbor_count = 0\n",
    "\n",
    "        #Считаем количество фишек такого же цвета в 4х направлениях \n",
    "        for dr, dc in [(0, 1), (1, 0), (0, -1), (-1, 0)]:\n",
    "            neighbor_row, neighbor_col = current_row + dr, current_col + dc #Определяем координаты соседей\n",
    "            \n",
    "            #Проверяем находятся ли фишки на доске и вычисляем индекс соседей\n",
    "            if 0 <= neighbor_row < 3 and 0 <= neighbor_col < 7:\n",
    "                neighbor_index = neighbor_row * 7 + neighbor_col\n",
    "                if initial_state[neighbor_index] == element: #Проверяем является ли фишка какого же цвета и добавляем счетчик\n",
    "                    neighbor_count += 1\n",
    "\n",
    "        total_distance += neighbor_count\n",
    "\n",
    "    return total_distance"
   ]
  },
  {
   "cell_type": "code",
   "execution_count": 221,
   "id": "1e3f79b9",
   "metadata": {},
   "outputs": [],
   "source": [
    "def astar_custom_manhattan_tiles(problem): return search.astar_search(problem, h=lambda n: h3(n.state))"
   ]
  },
  {
   "cell_type": "code",
   "execution_count": 222,
   "id": "f0363ef1",
   "metadata": {},
   "outputs": [
    {
     "name": "stdout",
     "output_type": "stream",
     "text": [
      "astar_custom_manhattan_tiles:\n",
      "   24,283 nodes |    7,649 goal |   24 cost |   7,672 actions | SlidingPuzzle((1, 2, 2, 1, 1, 2, 1, 2, 1\n",
      "    2,470 nodes |      783 goal |   16 cost |     798 actions | SlidingPuzzle((1, 2, 1, 1, 1, 2, 2, 2, 1\n",
      "  125,553 nodes |   39,386 goal |   30 cost |  39,415 actions | SlidingPuzzle((0, 2, 1, 2, 1, 2, 1, 2, 1\n",
      "    4,734 nodes |    1,488 goal |   24 cost |   1,511 actions | SlidingPuzzle((1, 2, 1, 2, 1, 1, 1, 2, 2\n",
      "   42,858 nodes |   13,443 goal |   26 cost |  13,468 actions | SlidingPuzzle((1, 1, 2, 2, 1, 2, 0, 2, 1\n",
      "  199,898 nodes |   62,749 goal |  120 cost |  62,864 actions | TOTAL\n",
      "\n"
     ]
    }
   ],
   "source": [
    "search.report([astar_custom_manhattan_tiles], [e1, e2, e3, e4, e5])"
   ]
  },
  {
   "cell_type": "markdown",
   "id": "9a9a8f28",
   "metadata": {},
   "source": [
    "### Вывод\n",
    "Как мы видим из тестирования у метода подсчета неправильно расположенных фишек количество узлов, чем у нашей модернизированной эвристики подсчета Манхэттенского расстояние. Но это лишь на более простых примерах, а вот на более сложных примерах(е3, е5, е6) наша эвристика подсчета расстояния до ближайшей координаты такого же цвета выигрывает\n",
    "\n",
    "По стоимость выигрывает эвристика подсчета неправильно расположенных фишек, но незначительно\n",
    "\n",
    "По времени проигрывает эвристики Манхэттенского расстояния - 1 минута 3.4 секунды, когда как подсчет неправильно расположенных фишек был произведен за 45.7 секунд\n",
    "\n",
    "Получается, что эвристику подсчета неправильных положений фишек можно назвать более выгрышной на более простых примерах, а эвристику Манхэттенского расстояния стоит применять на более сложных. Но именно с намими начальными состояниями по критериям больше выгрывает эвристика подсчета неправильно расположенных фишек. \n"
   ]
  },
  {
   "cell_type": "markdown",
   "id": "0c74b388",
   "metadata": {},
   "source": [
    "## 2. Локальный поиск.\n",
    "### Локальный лучевой поиск"
   ]
  },
  {
   "cell_type": "markdown",
   "id": "d971e819",
   "metadata": {},
   "source": [
    "Инициализируем класс Problem для задачи о ферзях"
   ]
  },
  {
   "cell_type": "code",
   "execution_count": 141,
   "id": "f9bdfcd2",
   "metadata": {},
   "outputs": [],
   "source": [
    "class QueenProblem(Problem):\n",
    "    def __init__(self, initial_state):\n",
    "        self.N = len(initial_state)\n",
    "        super().__init__(initial_state)\n",
    "\n",
    "    def actions(self, state):\n",
    "        #Объявляем действия, если все ферзи размещены, то нет допустимых действий. Если ферзи не размещены, то ищем колонку без ферзей. \n",
    "        if state[-1] != -1:\n",
    "            return []\n",
    "        else:\n",
    "            col = state.index(-1) \n",
    "            return [row for row in range(self.N) if not self.conflicted(state, col, row)]\n",
    "\n",
    "    def result(self, state, row):\n",
    "        #Возвращаем новое состояние после размещения \n",
    "        col = state.index(-1)\n",
    "        new_state = list(state)\n",
    "        new_state[col] = row\n",
    "        return tuple(new_state)\n",
    "        \n",
    "    def conflict(self, row1, col1, row2, col2):\n",
    "        #Проверка на конфликтность между двумя ферзями\n",
    "        return (\n",
    "            row1 == row2 or  # по строке\n",
    "            col1 == col2 or  # по столбцу\n",
    "            abs(row1 - row2) == abs(col1 - col2)  # по диагонали\n",
    "        )\n",
    "    def conflicted(self, state, col, row):\n",
    "        #Проверяем конфликтность для размещения\n",
    "        return any(\n",
    "            self.conflict(row, col, state[c], c)\n",
    "            for c in range(col)\n",
    "        )\n",
    "\n",
    "    def goal_test(self, state):\n",
    "        #Проверка размещения\n",
    "        return state[-1] != -1 and not any(self.conflicted(state, col, state[col]) for col in range(self.N))\n",
    "\n"
   ]
  },
  {
   "cell_type": "markdown",
   "id": "53d55dd3",
   "metadata": {},
   "source": [
    " Теперь напишим функцию для локального лучевого поиска"
   ]
  },
  {
   "cell_type": "code",
   "execution_count": 160,
   "id": "6a4c20cb",
   "metadata": {},
   "outputs": [],
   "source": [
    "def local_beam_search(problem, beam_width = 3):\n",
    "    open_nodes = [Node(problem.initial)]\n",
    "\n",
    "    while open_nodes:\n",
    "        #Сортируем по стоимости узла и выбираем лучшее из ограниченного диапозона по ширине луча\n",
    "        open_nodes.sort(key=lambda node: problem.h(node))\n",
    "        open_nodes = open_nodes[:beam_width]\n",
    "\n",
    "        #Создаем новое состояние\n",
    "        for node in open_nodes:\n",
    "            if problem.goal_test(node.state):\n",
    "                return node.state\n",
    "\n",
    "        next_nodes = []\n",
    "       #Создаем список из всех возможных текущих состояний\n",
    "        for node in open_nodes:\n",
    "            for action in problem.actions(node.state):\n",
    "                next_nodes.append(problem.result(node.state, action))\n",
    "\n",
    "        open_nodes = []\n",
    "        for state in next_nodes:\n",
    "            open_nodes.append(Node(state))\n",
    "\n",
    "    return None"
   ]
  },
  {
   "cell_type": "code",
   "execution_count": 235,
   "id": "6d683cd9",
   "metadata": {},
   "outputs": [],
   "source": [
    "e1 = QueenProblem((-1,-1,-1,-1,-1,-1,-1,-1)) \n",
    "e2 = QueenProblem((-1,-4,-1,0,-1,2,-1,-1))\n",
    "e3 = QueenProblem((0,1,3,2,4,6,7,5))\n",
    "e4 = QueenProblem((0,1,3,2,4,7,6,3))\n",
    "e5 = QueenProblem((-1,-1,-1,-1,-1,-1,-1,-1,0))"
   ]
  },
  {
   "cell_type": "code",
   "execution_count": 162,
   "id": "ba75f21a",
   "metadata": {},
   "outputs": [
    {
     "name": "stdout",
     "output_type": "stream",
     "text": [
      "Решений не найденно\n",
      "Решений не найденно\n",
      "Решений не найденно\n",
      "Решений не найденно\n",
      "Решений не найденно\n"
     ]
    }
   ],
   "source": [
    "for check in [e1,e2,e3,e4,e5]:\n",
    "    result = local_beam_search(check)\n",
    "    if result:\n",
    "        print('Найденно оптимальное решение',result)\n",
    "    else:\n",
    "        print('Решений не найденно')"
   ]
  },
  {
   "cell_type": "markdown",
   "id": "19d72538",
   "metadata": {},
   "source": [
    "Для сравнения оптимального решения я выбрала доску 8x8, так как достаточно средний размер доски для сравнения. Из 5 начальных состояний, которые мы выбрали для тестирования не найденно ни одно решение.\n",
    "Так как лучевой поиск при бесконечно ширине луча индентичен поиску в ширину, то возможно стоит увеличивать ширину луча еще больше. Но я считаю, что можно сказать, что локальный лучевой поиск не оптимален. "
   ]
  },
  {
   "cell_type": "markdown",
   "id": "76c69cc0",
   "metadata": {},
   "source": [
    "### Генетический алгоритм"
   ]
  },
  {
   "cell_type": "code",
   "execution_count": 237,
   "id": "863c9acb",
   "metadata": {},
   "outputs": [],
   "source": [
    "#Сделаем функцию подсчета конфликтов в состоянии\n",
    "def calculate(state):\n",
    "    conflicts = 0\n",
    "    size = len(state)\n",
    "\n",
    "    for i in range(size):\n",
    "        for j in range(i + 1, size):\n",
    "            if state[i] == state[j] or abs(state[i] - state[j]) == j - i:\n",
    "                conflicts += 1\n",
    "\n",
    "    return conflicts\n",
    "\n",
    "#Функция генетического алгоритма\n",
    "def genetic_algorithm(problem, size = 8, population_size=100, generations=1000):\n",
    "    population = [problem.initial for _ in range(population_size)]\n",
    "\n",
    "    for i in range(generations):\n",
    "        fitness_scores = [calculate(individual) for individual in population]\n",
    "\n",
    "        best_individual = population[fitness_scores.index(max(fitness_scores))]\n",
    "        best_fitness = max(fitness_scores)\n",
    "\n",
    "        if best_fitness == 1:\n",
    "            return best_individual\n",
    "\n",
    "\n",
    "    return None  "
   ]
  },
  {
   "cell_type": "code",
   "execution_count": 238,
   "id": "16eba5da",
   "metadata": {},
   "outputs": [
    {
     "name": "stdout",
     "output_type": "stream",
     "text": [
      "Решений не найденно\n",
      "Решений не найденно\n",
      "Решений не найденно\n",
      "Решений не найденно\n",
      "Решений не найденно\n"
     ]
    }
   ],
   "source": [
    "for check in [e1,e2,e3,e4,e5]:\n",
    "    result = genetic_algorithm(check)\n",
    "    if result:\n",
    "        print('Найденно оптимальное решение',result)\n",
    "    else:\n",
    "        print('Решений не найденно') "
   ]
  },
  {
   "cell_type": "markdown",
   "id": "bc2208a7",
   "metadata": {},
   "source": [
    "Как мы видим из 5 начальных вариантов, которые мы поместили в алгоритм не найденно ни одного оптимального решения, поэтому можно сказать что генетический алгоритм не оптимален "
   ]
  }
 ],
 "metadata": {
  "kernelspec": {
   "display_name": "Python 3 (ipykernel)",
   "language": "python",
   "name": "python3"
  },
  "language_info": {
   "codemirror_mode": {
    "name": "ipython",
    "version": 3
   },
   "file_extension": ".py",
   "mimetype": "text/x-python",
   "name": "python",
   "nbconvert_exporter": "python",
   "pygments_lexer": "ipython3",
   "version": "3.10.5"
  }
 },
 "nbformat": 4,
 "nbformat_minor": 5
}
